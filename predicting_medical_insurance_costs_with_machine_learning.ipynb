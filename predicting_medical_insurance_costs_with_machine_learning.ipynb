{
  "nbformat": 4,
  "nbformat_minor": 0,
  "metadata": {
    "colab": {
      "name": "predicting_medical_insurance_costs_with_machine_learning.ipynb",
      "provenance": [],
      "collapsed_sections": [],
      "toc_visible": true
    },
    "kernelspec": {
      "name": "python3",
      "display_name": "Python 3"
    },
    "language_info": {
      "name": "python"
    }
  },
  "cells": [
    {
      "cell_type": "markdown",
      "metadata": {
        "id": "usX4FO1UIYiv"
      },
      "source": [
        "Anthony Isensee\n",
        "\n",
        "To give credit where credit is due, the stragies demonstrated by this project are derived from the book *Hands-On Machine Learning with Scikit-Learn, Keras, & TensorFlow*, a machine learning guide by Aurélien Géron. I highly recommend this textbook as an incredible resource for the individual wishing to utilize the incredible strength of machine learning."
      ]
    },
    {
      "cell_type": "markdown",
      "metadata": {
        "id": "MRf8ndJfMoWH"
      },
      "source": [
        "# The Goal - Predicting Medical Insurance Costs\n",
        "\n",
        "Using the dataset from https://www.kaggle.com/mirichoi0218/insurance/home our goal is to use machine learning to predict the medical insurance costs incurred by unique individuals based on feature labels defining information gathered about the individuals.\n",
        "\n",
        "We utilize the following strategy to achieve this goal:\n",
        "\n",
        "1. Get the data.\n",
        "2. Explore the data.\n",
        "3. Prepare the data.\n",
        "4. Select, train, and evaluate a model using the data."
      ]
    },
    {
      "cell_type": "markdown",
      "metadata": {
        "id": "pfLcbKaiS5Q4"
      },
      "source": [
        "# 0. Basic Imports and Setup\n"
      ]
    },
    {
      "cell_type": "code",
      "metadata": {
        "id": "JE95ZFhKS4tE"
      },
      "source": [
        "# Support Python2 and Python3 functions\n",
        "from __future__ import division, print_function, unicode_literals\n",
        "\n",
        "# Numpy for number processing.\n",
        "import numpy as np\n",
        "\n",
        "# Set a 'random' seed for consistent results across platforms.\n",
        "np.random.seed(42)"
      ],
      "execution_count": null,
      "outputs": []
    },
    {
      "cell_type": "markdown",
      "metadata": {
        "id": "wh9edaqmQJHE"
      },
      "source": [
        "# 1. Get the Data\n",
        "\n",
        "Here, we download a copy of the data to our local environment."
      ]
    },
    {
      "cell_type": "code",
      "metadata": {
        "id": "UGmmnFoBMe3O"
      },
      "source": [
        "## Load Insurance Dataset to File ##\n",
        "\n",
        "# Operating system utilities, especially for directory creation and file storage.\n",
        "import os\n",
        "\n",
        "# Import library for data retrieval from URL.\n",
        "from six.moves import urllib\n",
        "\n",
        "# URL for Data File\n",
        "# See https://www.kaggle.com/mirichoi0218/insurance/home for original source of dataset.\n",
        "DATSET_DOWNLOAD_URL = \"https://raw.githubusercontent.com/rlsummerscales/CPTR435/master/data/insurance.csv\"\n",
        "\n",
        "# Local path at which to store data.\n",
        "INSURANCE_DATASET_PATH = os.path.join(\"datasets\", \"insurance\")\n",
        "\n",
        "## Gather data from URL ##\n",
        "def fetch_insurance_data(insurance_url=DATSET_DOWNLOAD_URL, insurance_path=INSURANCE_DATASET_PATH):\n",
        "    \n",
        "    # Create a directory on the current OS to store the data in.\n",
        "    if not os.path.isdir(insurance_path):\n",
        "        os.makedirs(insurance_path)\n",
        "\n",
        "    # Build a local path for the data file\n",
        "    csv_path = os.path.join(insurance_path, \"insurance.csv\")\n",
        "\n",
        "    # Download the dataset\n",
        "    urllib.request.urlretrieve(insurance_url, csv_path)\n",
        "\n",
        "# Fetch the dataset and load into local directory\n",
        "fetch_insurance_data()"
      ],
      "execution_count": null,
      "outputs": []
    },
    {
      "cell_type": "markdown",
      "metadata": {
        "id": "9HZLjZgCOIO4"
      },
      "source": [
        "We then take that data and load it into a pandas dataframe."
      ]
    },
    {
      "cell_type": "code",
      "metadata": {
        "id": "2CDGBp60LkqB"
      },
      "source": [
        "## Load Dataset .csv into Pandas Dataframe ##\n",
        "\n",
        "# Import pandas so we can actually use it's dataframe object\n",
        "import pandas as pd\n",
        "\n",
        "# Takes a file, loads it into a pandas dataframe, and returns that dataframe. \n",
        "def load_insurance_data(insurance_path=INSURANCE_DATASET_PATH):\n",
        "    csv_path = os.path.join(insurance_path, \"insurance.csv\")\n",
        "    return pd.read_csv(csv_path)\n",
        "\n",
        "# Load data into dataframe\n",
        "insurance = load_insurance_data()"
      ],
      "execution_count": null,
      "outputs": []
    },
    {
      "cell_type": "markdown",
      "metadata": {
        "id": "FfYwgOiKNXLL"
      },
      "source": [
        "# 2. Explore the data\n",
        "\n",
        "We now find out more about our data. We do the following to get a taste of the data:"
      ]
    },
    {
      "cell_type": "markdown",
      "metadata": {
        "id": "SRB17Mk8PF2J"
      },
      "source": [
        "# Display the first few rows for sampling:"
      ]
    },
    {
      "cell_type": "code",
      "metadata": {
        "colab": {
          "base_uri": "https://localhost:8080/",
          "height": 205
        },
        "id": "SiJRxLHDNt25",
        "outputId": "a96a3298-666e-43e8-ceff-7f6c061f16e8"
      },
      "source": [
        "# Display the first few rows for sampling.\n",
        "insurance.head()"
      ],
      "execution_count": null,
      "outputs": [
        {
          "output_type": "execute_result",
          "data": {
            "text/html": [
              "<div>\n",
              "<style scoped>\n",
              "    .dataframe tbody tr th:only-of-type {\n",
              "        vertical-align: middle;\n",
              "    }\n",
              "\n",
              "    .dataframe tbody tr th {\n",
              "        vertical-align: top;\n",
              "    }\n",
              "\n",
              "    .dataframe thead th {\n",
              "        text-align: right;\n",
              "    }\n",
              "</style>\n",
              "<table border=\"1\" class=\"dataframe\">\n",
              "  <thead>\n",
              "    <tr style=\"text-align: right;\">\n",
              "      <th></th>\n",
              "      <th>age</th>\n",
              "      <th>sex</th>\n",
              "      <th>bmi</th>\n",
              "      <th>children</th>\n",
              "      <th>smoker</th>\n",
              "      <th>region</th>\n",
              "      <th>charges</th>\n",
              "    </tr>\n",
              "  </thead>\n",
              "  <tbody>\n",
              "    <tr>\n",
              "      <th>0</th>\n",
              "      <td>19</td>\n",
              "      <td>female</td>\n",
              "      <td>27.900</td>\n",
              "      <td>0</td>\n",
              "      <td>yes</td>\n",
              "      <td>southwest</td>\n",
              "      <td>16884.92400</td>\n",
              "    </tr>\n",
              "    <tr>\n",
              "      <th>1</th>\n",
              "      <td>18</td>\n",
              "      <td>male</td>\n",
              "      <td>33.770</td>\n",
              "      <td>1</td>\n",
              "      <td>no</td>\n",
              "      <td>southeast</td>\n",
              "      <td>1725.55230</td>\n",
              "    </tr>\n",
              "    <tr>\n",
              "      <th>2</th>\n",
              "      <td>28</td>\n",
              "      <td>male</td>\n",
              "      <td>33.000</td>\n",
              "      <td>3</td>\n",
              "      <td>no</td>\n",
              "      <td>southeast</td>\n",
              "      <td>4449.46200</td>\n",
              "    </tr>\n",
              "    <tr>\n",
              "      <th>3</th>\n",
              "      <td>33</td>\n",
              "      <td>male</td>\n",
              "      <td>22.705</td>\n",
              "      <td>0</td>\n",
              "      <td>no</td>\n",
              "      <td>northwest</td>\n",
              "      <td>21984.47061</td>\n",
              "    </tr>\n",
              "    <tr>\n",
              "      <th>4</th>\n",
              "      <td>32</td>\n",
              "      <td>male</td>\n",
              "      <td>28.880</td>\n",
              "      <td>0</td>\n",
              "      <td>no</td>\n",
              "      <td>northwest</td>\n",
              "      <td>3866.85520</td>\n",
              "    </tr>\n",
              "  </tbody>\n",
              "</table>\n",
              "</div>"
            ],
            "text/plain": [
              "   age     sex     bmi  children smoker     region      charges\n",
              "0   19  female  27.900         0    yes  southwest  16884.92400\n",
              "1   18    male  33.770         1     no  southeast   1725.55230\n",
              "2   28    male  33.000         3     no  southeast   4449.46200\n",
              "3   33    male  22.705         0     no  northwest  21984.47061\n",
              "4   32    male  28.880         0     no  northwest   3866.85520"
            ]
          },
          "metadata": {},
          "execution_count": 4
        }
      ]
    },
    {
      "cell_type": "markdown",
      "metadata": {
        "id": "nRmc_uJPPKA5"
      },
      "source": [
        "# Display the value counts for sex, smoker, and region. \n",
        "\n",
        "Essentially, these are the values present in the dataset, as well as how many of that value are present in each set."
      ]
    },
    {
      "cell_type": "code",
      "metadata": {
        "colab": {
          "base_uri": "https://localhost:8080/"
        },
        "id": "Ha60S8YXOZTj",
        "outputId": "4be15f4b-246e-42a3-a00d-7bc9120c09a6"
      },
      "source": [
        "# Display value counts for sex\n",
        "insurance[\"sex\"].value_counts()"
      ],
      "execution_count": null,
      "outputs": [
        {
          "output_type": "execute_result",
          "data": {
            "text/plain": [
              "male      676\n",
              "female    662\n",
              "Name: sex, dtype: int64"
            ]
          },
          "metadata": {},
          "execution_count": 5
        }
      ]
    },
    {
      "cell_type": "code",
      "metadata": {
        "colab": {
          "base_uri": "https://localhost:8080/"
        },
        "id": "ZFqhXR23O9CA",
        "outputId": "6e5803f3-a745-4bd1-acc8-2a99afd7a3b3"
      },
      "source": [
        "# Display value counts for smoker\n",
        "insurance[\"smoker\"].value_counts()"
      ],
      "execution_count": null,
      "outputs": [
        {
          "output_type": "execute_result",
          "data": {
            "text/plain": [
              "no     1064\n",
              "yes     274\n",
              "Name: smoker, dtype: int64"
            ]
          },
          "metadata": {},
          "execution_count": 6
        }
      ]
    },
    {
      "cell_type": "code",
      "metadata": {
        "colab": {
          "base_uri": "https://localhost:8080/"
        },
        "id": "wUBp5NjxO-w5",
        "outputId": "80e98404-bac9-40c2-a901-e721760427b9"
      },
      "source": [
        "# Display value counts for region\n",
        "insurance[\"region\"].value_counts()"
      ],
      "execution_count": null,
      "outputs": [
        {
          "output_type": "execute_result",
          "data": {
            "text/plain": [
              "southeast    364\n",
              "southwest    325\n",
              "northwest    325\n",
              "northeast    324\n",
              "Name: region, dtype: int64"
            ]
          },
          "metadata": {},
          "execution_count": 7
        }
      ]
    },
    {
      "cell_type": "markdown",
      "metadata": {
        "id": "uya0G53DPi2l"
      },
      "source": [
        "# Histograms of Numerical Features\n",
        "\n",
        "We then plot histograms for easy visual depictions of each feature. "
      ]
    },
    {
      "cell_type": "code",
      "metadata": {
        "colab": {
          "base_uri": "https://localhost:8080/",
          "height": 396
        },
        "id": "Kz3EV8LdPq8h",
        "outputId": "67aacad7-971c-4bd0-bf2c-2fe48b05bfbc"
      },
      "source": [
        "# Show plots inline\n",
        "%matplotlib inline\n",
        "\n",
        "# Import matplotlib's pyplot features\n",
        "import matplotlib.pyplot as plt\n",
        "\n",
        "# Uses matplotlib.pyplot.hist to plot histograms\n",
        "insurance.hist(bins=50, figsize=(20,12))\n",
        "\n",
        "# Shows plots\n",
        "plt.show()"
      ],
      "execution_count": null,
      "outputs": [
        {
          "output_type": "display_data",
          "data": {
            "image/png": "[encoded data removed]",
            "text/plain": [
              "<Figure size 1440x864 with 4 Axes>"
            ]
          },
          "metadata": {
            "needs_background": "light"
          }
        }
      ]
    },
    {
      "cell_type": "markdown",
      "metadata": {
        "id": "We0qp8utQWq3"
      },
      "source": [
        "# Histogram & Data Observations\n",
        "\n",
        "In viewing the histograms, we make several observations:\n",
        "\n",
        "\n",
        "1.   The majority of individuals have 0 children. The next majority have 1, then 2, etc.\n",
        "2.   Data is limited to 5 child households.\n",
        "3.   The vast majority of charges lie between \\$0 and \\$15,000 dollars. (Assuming charges are in dollars.)\n",
        "4.   There is a very even distribution of age, *except for individuals younger than 20*.\n",
        "5.   Several values of age appear to have no data points (29, 41, and 53). Additionally, the cutoff for age data seems to be 65. This could limit our predictive capability for anyone who is those specific ages or older than 65.\n",
        "5.   Most individuals have a BMI of around 30%.\n",
        "\n"
      ]
    },
    {
      "cell_type": "markdown",
      "metadata": {
        "id": "Vh9A6tYiTqMC"
      },
      "source": [
        "# Stratified Split\n",
        "\n",
        "Now, we perform a stratified split of the dataset, using the smoker attribute as the primary feature we wish to split evenly. \n",
        "\n",
        "Note that we are only splitting once (we are not performing K-fold cross validation) and that our test set size will be 20%, meaning our training set size will naturally be the remaining 80%."
      ]
    },
    {
      "cell_type": "code",
      "metadata": {
        "colab": {
          "base_uri": "https://localhost:8080/"
        },
        "id": "ErXO0AGNR8L3",
        "outputId": "7576bdb1-33f4-4385-fa1b-40d68b652ff3"
      },
      "source": [
        "# Import scikitlearn's stratified shuffle split.\n",
        "from sklearn.model_selection import StratifiedShuffleSplit\n",
        "\n",
        "# We set up the desired parameters for our split.\n",
        "split = StratifiedShuffleSplit(n_splits=1, test_size=0.2, random_state=51)\n",
        "\n",
        "# Spilt object is a generator. Need for loop to make it generate a split.\n",
        "# split(x, label) -> splits array x between train and test making sure that\n",
        "# each label (e.g. each income category) is equally represented in both train and test sets.\n",
        "# The probability distribution of the labels should be roughly the same in both sets.\n",
        "\n",
        "# We use a for loop to equally distribute items in the training and test sets.\n",
        "for train_index, test_index in split.split(insurance, insurance[\"smoker\"]):\n",
        "    print('Training samples: {}, testing samples: {}'\n",
        "          .format(train_index.shape, test_index.shape))\n",
        "    \n",
        "    stratified_training_set = insurance.loc[train_index]\n",
        "    stratified_testing_set = insurance.loc[test_index]"
      ],
      "execution_count": null,
      "outputs": [
        {
          "output_type": "stream",
          "name": "stdout",
          "text": [
            "Training samples: (1070,), testing samples: (268,)\n"
          ]
        }
      ]
    },
    {
      "cell_type": "markdown",
      "metadata": {
        "id": "AdlMzPhtU8t3"
      },
      "source": [
        "# Verification of Stratified Split\n",
        "\n",
        "Now, we verify that the stratified split actually performed the split with roughly the same percentage of smokers in the training set as the test set. We divide each category (as we saw before, the answers no/yes) by the number of total items in the set to see the decimal percentage of each feature."
      ]
    },
    {
      "cell_type": "code",
      "metadata": {
        "colab": {
          "base_uri": "https://localhost:8080/"
        },
        "id": "im-vahcyU8AM",
        "outputId": "aa82191a-9610-4785-a8fb-d7d5913423aa"
      },
      "source": [
        "# Decimal percentage of each feature in training set\n",
        "stratified_training_set[\"smoker\"].value_counts() / len(stratified_training_set)"
      ],
      "execution_count": null,
      "outputs": [
        {
          "output_type": "execute_result",
          "data": {
            "text/plain": [
              "no     0.795327\n",
              "yes    0.204673\n",
              "Name: smoker, dtype: float64"
            ]
          },
          "metadata": {},
          "execution_count": 10
        }
      ]
    },
    {
      "cell_type": "code",
      "metadata": {
        "colab": {
          "base_uri": "https://localhost:8080/"
        },
        "id": "NZKMephcVlHC",
        "outputId": "9fdc8003-b978-4bbe-ee6f-d9bf1fc0e93b"
      },
      "source": [
        "# Decimal percentage of each feature in test set\n",
        "stratified_testing_set[\"smoker\"].value_counts() / len(stratified_testing_set)"
      ],
      "execution_count": null,
      "outputs": [
        {
          "output_type": "execute_result",
          "data": {
            "text/plain": [
              "no     0.794776\n",
              "yes    0.205224\n",
              "Name: smoker, dtype: float64"
            ]
          },
          "metadata": {},
          "execution_count": 11
        }
      ]
    },
    {
      "cell_type": "markdown",
      "metadata": {
        "id": "e4Yb6JziV0fp"
      },
      "source": [
        "Awesome! It's a very even distribution between test and training sets, at least based on this one feature. "
      ]
    },
    {
      "cell_type": "markdown",
      "metadata": {
        "id": "EhV26qcVBUVx"
      },
      "source": [
        "# Comparison to Random Split\n",
        "\n",
        "Out of curiosity, let's see what a randomized split might give us based on this sole feature!"
      ]
    },
    {
      "cell_type": "code",
      "metadata": {
        "id": "DQ4iwTazW5C_"
      },
      "source": [
        "# Import the simple, randomized train_test_split function\n",
        "from sklearn.model_selection import train_test_split\n",
        "\n",
        "# Create a random split\n",
        "example_training_set, example_testing_set = train_test_split(insurance, test_size=0.2, random_state=12)"
      ],
      "execution_count": null,
      "outputs": []
    },
    {
      "cell_type": "code",
      "metadata": {
        "colab": {
          "base_uri": "https://localhost:8080/"
        },
        "id": "lxRLUobhXc0D",
        "outputId": "89a23750-a38c-4c27-d609-cc4aada9a24e"
      },
      "source": [
        "# Decimal percentage of each feature in example training set\n",
        "example_training_set[\"smoker\"].value_counts() / len(example_training_set)"
      ],
      "execution_count": null,
      "outputs": [
        {
          "output_type": "execute_result",
          "data": {
            "text/plain": [
              "no     0.790654\n",
              "yes    0.209346\n",
              "Name: smoker, dtype: float64"
            ]
          },
          "metadata": {},
          "execution_count": 13
        }
      ]
    },
    {
      "cell_type": "code",
      "metadata": {
        "colab": {
          "base_uri": "https://localhost:8080/"
        },
        "id": "WUlnPxBAXdae",
        "outputId": "519bcb25-3258-4f4e-d94d-7549e4541e2e"
      },
      "source": [
        "# Decimal percentage of each feature in example training set\n",
        "example_testing_set[\"smoker\"].value_counts() / len(example_testing_set)"
      ],
      "execution_count": null,
      "outputs": [
        {
          "output_type": "execute_result",
          "data": {
            "text/plain": [
              "no     0.813433\n",
              "yes    0.186567\n",
              "Name: smoker, dtype: float64"
            ]
          },
          "metadata": {},
          "execution_count": 14
        }
      ]
    },
    {
      "cell_type": "markdown",
      "metadata": {
        "id": "IWkkz90tV7bS"
      },
      "source": [
        "Definitely not as good, demonstrating how nice it can be to be able to perform a stratified split to have even distribution over your training and testing sets of a feature with particular importance!\n",
        "."
      ]
    },
    {
      "cell_type": "markdown",
      "metadata": {
        "id": "DXBAkJCVX8yA"
      },
      "source": [
        "# Identify Correlations w/ Correlation Matrix\n",
        "\n",
        "Now, we wish to identify important correlations. One of the ways we can easily do this is with a correlation matrix, which shows us which values correspond to which other values the most often."
      ]
    },
    {
      "cell_type": "code",
      "metadata": {
        "colab": {
          "base_uri": "https://localhost:8080/",
          "height": 175
        },
        "id": "HG2UwpBLYife",
        "outputId": "81577ca1-d370-49c7-8b92-53a6a77e3d74"
      },
      "source": [
        "# Create a correlation matrix\n",
        "insurance_correlation_matrix = insurance.corr()\n",
        "\n",
        "# Print results\n",
        "insurance_correlation_matrix"
      ],
      "execution_count": null,
      "outputs": [
        {
          "output_type": "execute_result",
          "data": {
            "text/html": [
              "<div>\n",
              "<style scoped>\n",
              "    .dataframe tbody tr th:only-of-type {\n",
              "        vertical-align: middle;\n",
              "    }\n",
              "\n",
              "    .dataframe tbody tr th {\n",
              "        vertical-align: top;\n",
              "    }\n",
              "\n",
              "    .dataframe thead th {\n",
              "        text-align: right;\n",
              "    }\n",
              "</style>\n",
              "<table border=\"1\" class=\"dataframe\">\n",
              "  <thead>\n",
              "    <tr style=\"text-align: right;\">\n",
              "      <th></th>\n",
              "      <th>age</th>\n",
              "      <th>bmi</th>\n",
              "      <th>children</th>\n",
              "      <th>charges</th>\n",
              "    </tr>\n",
              "  </thead>\n",
              "  <tbody>\n",
              "    <tr>\n",
              "      <th>age</th>\n",
              "      <td>1.000000</td>\n",
              "      <td>0.109272</td>\n",
              "      <td>0.042469</td>\n",
              "      <td>0.299008</td>\n",
              "    </tr>\n",
              "    <tr>\n",
              "      <th>bmi</th>\n",
              "      <td>0.109272</td>\n",
              "      <td>1.000000</td>\n",
              "      <td>0.012759</td>\n",
              "      <td>0.198341</td>\n",
              "    </tr>\n",
              "    <tr>\n",
              "      <th>children</th>\n",
              "      <td>0.042469</td>\n",
              "      <td>0.012759</td>\n",
              "      <td>1.000000</td>\n",
              "      <td>0.067998</td>\n",
              "    </tr>\n",
              "    <tr>\n",
              "      <th>charges</th>\n",
              "      <td>0.299008</td>\n",
              "      <td>0.198341</td>\n",
              "      <td>0.067998</td>\n",
              "      <td>1.000000</td>\n",
              "    </tr>\n",
              "  </tbody>\n",
              "</table>\n",
              "</div>"
            ],
            "text/plain": [
              "               age       bmi  children   charges\n",
              "age       1.000000  0.109272  0.042469  0.299008\n",
              "bmi       0.109272  1.000000  0.012759  0.198341\n",
              "children  0.042469  0.012759  1.000000  0.067998\n",
              "charges   0.299008  0.198341  0.067998  1.000000"
            ]
          },
          "metadata": {},
          "execution_count": 15
        }
      ]
    },
    {
      "cell_type": "markdown",
      "metadata": {
        "id": "fVyhPV5CY8mW"
      },
      "source": [
        "# Correlation Observations\n",
        "\n",
        "Looking at this correlation matrix, we see the highest correlations (other than between features and themselves) occur between age and charges. We are very interested in the charges category, so we use further code to isolate and order by significance. This doesn't simplify too much since there are currently so few numerical categories, but it does help us to see which categories might have the largest influence on costs."
      ]
    },
    {
      "cell_type": "code",
      "metadata": {
        "colab": {
          "base_uri": "https://localhost:8080/"
        },
        "id": "uNNJ0aikhia3",
        "outputId": "db9062b5-1253-4bbd-b2ad-b58bf872afe9"
      },
      "source": [
        "insurance_correlation_matrix[\"charges\"].sort_values(ascending=False)"
      ],
      "execution_count": null,
      "outputs": [
        {
          "output_type": "execute_result",
          "data": {
            "text/plain": [
              "charges     1.000000\n",
              "age         0.299008\n",
              "bmi         0.198341\n",
              "children    0.067998\n",
              "Name: charges, dtype: float64"
            ]
          },
          "metadata": {},
          "execution_count": 16
        }
      ]
    },
    {
      "cell_type": "markdown",
      "metadata": {
        "id": "_dFSrnBWh9eh"
      },
      "source": [
        "As we can see, it runs age, bmi, and then finally children (children having comparitively little correlation)."
      ]
    },
    {
      "cell_type": "markdown",
      "metadata": {
        "id": "RQ4VuCrQSPE3"
      },
      "source": [
        "# 3. Prepare the data\n",
        "\n",
        "Now, we want to actually start processing our data so that we can train a machine learning model with it."
      ]
    },
    {
      "cell_type": "markdown",
      "metadata": {
        "id": "AHFZZ7W1Brv9"
      },
      "source": [
        "# Remove Desired Output Labels\n",
        "\n",
        "We begin by copying the output labels (the charges category) from the datasets. Then, we remove the labels from the main dataset."
      ]
    },
    {
      "cell_type": "code",
      "metadata": {
        "id": "sd3GAQIiSMai"
      },
      "source": [
        "# Copy out labels from sets\n",
        "stratified_training_set_labels = stratified_training_set[\"charges\"].copy()\n",
        "stratified_testing_set_labels = stratified_testing_set[\"charges\"].copy()\n",
        "\n",
        "# Drop output labels from both sets\n",
        "stratified_training_set = stratified_training_set.drop(\"charges\", axis=1)\n",
        "stratified_testing_set = stratified_testing_set.drop(\"charges\", axis=1)"
      ],
      "execution_count": null,
      "outputs": []
    },
    {
      "cell_type": "markdown",
      "metadata": {
        "id": "wHF5hy7uV0qm"
      },
      "source": [
        "# Check for Missing Attribute Values\n",
        "\n",
        "Now, we check for missing attribute values. As we can see, there are none, which makes our lives significantly easier. Yay for complete datasets!\n",
        "\n",
        "If there were incomplete rows, we could use scikitlearn's Imputer class to fix missing values in a data set using a specific strategy. (Or, if we're feeling lazy, we could drop the rows with missing features. If we're feeling *really* lazy we could even drop the feature.)"
      ]
    },
    {
      "cell_type": "code",
      "metadata": {
        "colab": {
          "base_uri": "https://localhost:8080/",
          "height": 49
        },
        "id": "Tgd2cBwHSMFo",
        "outputId": "018497f4-240a-422b-93c7-80fe51d758b3"
      },
      "source": [
        "incomplete_rows = insurance[insurance.isnull().any(axis=1)].head()\n",
        "incomplete_rows"
      ],
      "execution_count": null,
      "outputs": [
        {
          "output_type": "execute_result",
          "data": {
            "text/html": [
              "<div>\n",
              "<style scoped>\n",
              "    .dataframe tbody tr th:only-of-type {\n",
              "        vertical-align: middle;\n",
              "    }\n",
              "\n",
              "    .dataframe tbody tr th {\n",
              "        vertical-align: top;\n",
              "    }\n",
              "\n",
              "    .dataframe thead th {\n",
              "        text-align: right;\n",
              "    }\n",
              "</style>\n",
              "<table border=\"1\" class=\"dataframe\">\n",
              "  <thead>\n",
              "    <tr style=\"text-align: right;\">\n",
              "      <th></th>\n",
              "      <th>age</th>\n",
              "      <th>sex</th>\n",
              "      <th>bmi</th>\n",
              "      <th>children</th>\n",
              "      <th>smoker</th>\n",
              "      <th>region</th>\n",
              "      <th>charges</th>\n",
              "    </tr>\n",
              "  </thead>\n",
              "  <tbody>\n",
              "  </tbody>\n",
              "</table>\n",
              "</div>"
            ],
            "text/plain": [
              "Empty DataFrame\n",
              "Columns: [age, sex, bmi, children, smoker, region, charges]\n",
              "Index: []"
            ]
          },
          "metadata": {},
          "execution_count": 18
        }
      ]
    },
    {
      "cell_type": "markdown",
      "metadata": {
        "id": "_mdp0vS0Zlwi"
      },
      "source": [
        "# One Hot Encode Categorical Features\n",
        "\n",
        "Unfortunately, looking at our data as a whole, see that only four of our features are numerical data. We'd like to be able to convert the rest of the features to numerical data so that we can easily feed the dataset to a Machine Learning algorithm. So, we make changes to the data.\n",
        "\n",
        "We note that we will need to process 3 features: sex, smoker, and region. Thankfully (and I found this out the hard way) we can do them all at once.\n",
        "\n",
        "While we could use label encoding to assign a certain number to each unique label, this could imply some sort of numeric scale to be associated with the labels. Since we do not desire this, we use a one-hot encoding approach. To do this, we create an array with the same number of spaces as we have number of labels for each feature. Then, we set solely the indexed position in the array associated with that label to 1, leaving all other values at 0."
      ]
    },
    {
      "cell_type": "code",
      "metadata": {
        "colab": {
          "base_uri": "https://localhost:8080/"
        },
        "id": "jN9TTo7NbPTM",
        "outputId": "17b98851-643e-4730-ac6a-758db0ff6c0a"
      },
      "source": [
        "# Import OneHotEncoder to perform one-hot encoding\n",
        "from sklearn.preprocessing import OneHotEncoder\n",
        "\n",
        "# Create the encoder\n",
        "category_encoder = OneHotEncoder()\n",
        "\n",
        "# Set the category\n",
        "insurance_category_to_encode = insurance[[\"sex\", \"smoker\", \"region\"]]\n",
        "\n",
        "# Perform the encoding\n",
        "insurance_only_categorical_features = category_encoder.fit_transform(insurance_category_to_encode)\n",
        "\n",
        "# Convert from default sparse array to normal array and print\n",
        "insurance_only_categorical_features.toarray()"
      ],
      "execution_count": null,
      "outputs": [
        {
          "output_type": "execute_result",
          "data": {
            "text/plain": [
              "array([[1., 0., 0., ..., 0., 0., 1.],\n",
              "       [0., 1., 1., ..., 0., 1., 0.],\n",
              "       [0., 1., 1., ..., 0., 1., 0.],\n",
              "       ...,\n",
              "       [1., 0., 1., ..., 0., 1., 0.],\n",
              "       [1., 0., 1., ..., 0., 0., 1.],\n",
              "       [1., 0., 0., ..., 1., 0., 0.]])"
            ]
          },
          "metadata": {},
          "execution_count": 19
        }
      ]
    },
    {
      "cell_type": "markdown",
      "metadata": {
        "id": "fUDaxXK6jvUi"
      },
      "source": [
        "# Housekeeping\n",
        "\n",
        "Additionally, now that we've encoded the categorical features and stored just those in their own array, we want to remove them from the original dataset so that we can isolate only the numerical features."
      ]
    },
    {
      "cell_type": "code",
      "metadata": {
        "id": "BvmmTvLckCoM"
      },
      "source": [
        "insurance_only_numerical_features = insurance.drop('sex', axis=1)\n",
        "insurance_only_numerical_features = insurance_only_numerical_features.drop('smoker', axis=1)\n",
        "insurance_only_numerical_features = insurance_only_numerical_features.drop('region', axis=1)\n",
        "insurance_only_numerical_features = insurance_only_numerical_features.drop('charges', axis=1)"
      ],
      "execution_count": null,
      "outputs": []
    },
    {
      "cell_type": "markdown",
      "metadata": {
        "id": "HTSAQmJwYqWk"
      },
      "source": [
        "# Create a Full Pipeline\n",
        "\n",
        "Now, we must create a class to select numerical and categorical features from our dataset. This will be essential to the pipeline we are about to set up."
      ]
    },
    {
      "cell_type": "code",
      "metadata": {
        "id": "WxybvIpobbT1"
      },
      "source": [
        "# Import for DataFrameSelector class to function\n",
        "from sklearn.base import BaseEstimator, TransformerMixin\n",
        "\n",
        "# Create a class to select numerical or categorical columns \n",
        "# since Scikit-Learn doesn't handle DataFrames yet\n",
        "class DataFrameSelector(BaseEstimator, TransformerMixin):\n",
        "    def __init__(self, attribute_names):\n",
        "        self.attribute_names = attribute_names\n",
        "    def fit(self, X, y=None):\n",
        "        return self\n",
        "    def transform(self, X):\n",
        "        return X[self.attribute_names].values"
      ],
      "execution_count": null,
      "outputs": []
    },
    {
      "cell_type": "markdown",
      "metadata": {
        "id": "Et2WEXrGimmy"
      },
      "source": [
        "First, we import the pipeline class so that we may utilize its functionality.\n"
      ]
    },
    {
      "cell_type": "code",
      "metadata": {
        "id": "1GVyfGrFiZvT"
      },
      "source": [
        "# Import the pipeline class from scikitlearn\n",
        "from sklearn.pipeline import Pipeline"
      ],
      "execution_count": null,
      "outputs": []
    },
    {
      "cell_type": "markdown",
      "metadata": {
        "id": "bCe3xnlOmOsa"
      },
      "source": [
        "Now, we create a pipeline for numerical and categorical functions, then join those two pipelines together to create one beautiful pipeline.\n",
        "\n",
        "Numerical features pipeline:"
      ]
    },
    {
      "cell_type": "code",
      "metadata": {
        "id": "niL8ycJylhYx"
      },
      "source": [
        "## Numerical Features Pipeline ##\n",
        "\n",
        "# Define numerical attributes to select with our numerical pipeline.\n",
        "# These are the features labels only present in the ridiculously \n",
        "# long variable insurance_only_numerical_features. \n",
        "numerical_attributes = list(insurance_only_numerical_features)\n",
        "\n",
        "# Create a pipeline for preparing numerical features\n",
        "numerical_pipeline = Pipeline([\n",
        "    ('selector', DataFrameSelector(numerical_attributes)),\n",
        "  ])"
      ],
      "execution_count": null,
      "outputs": []
    },
    {
      "cell_type": "markdown",
      "metadata": {
        "id": "WV-6FrWcmYri"
      },
      "source": [
        "Categorical features pipeline:"
      ]
    },
    {
      "cell_type": "code",
      "metadata": {
        "id": "wUGzBA2VlgHL"
      },
      "source": [
        "## Categorical Features Pipeline ##\n",
        "\n",
        "# Define categorical attributes to select with our categorical pipeline\n",
        "category_attributes = [\"sex\", \"smoker\", \"region\"]\n",
        "\n",
        "# Create a pipeline for preparing categorical features\n",
        "categorical_pipeline = Pipeline([\n",
        "    ('selector', DataFrameSelector(category_attributes)),\n",
        "    ('category_encoder', OneHotEncoder(sparse=False))\n",
        "  ])"
      ],
      "execution_count": null,
      "outputs": []
    },
    {
      "cell_type": "markdown",
      "metadata": {
        "id": "tMbNzhdKmaqC"
      },
      "source": [
        "Combined pipeline:"
      ]
    },
    {
      "cell_type": "code",
      "metadata": {
        "id": "mnZnLTF3dbv6"
      },
      "source": [
        "## Combine Both Pipelines ##\n",
        "\n",
        "# Import scikitlearn's FeatureUnion to combine pipelines\n",
        "from sklearn.pipeline import FeatureUnion\n",
        "\n",
        "full_pipeline = FeatureUnion(transformer_list=[\n",
        "    (\"numerical_pipeline\", numerical_pipeline),\n",
        "    (\"categorical_pipeline\", categorical_pipeline),\n",
        "  ])"
      ],
      "execution_count": null,
      "outputs": []
    },
    {
      "cell_type": "markdown",
      "metadata": {
        "id": "G72ORaiOmgB0"
      },
      "source": [
        "And finally, we run a quick check on our data to make sure our pipeline is working. All we see is numbers, so we appear to be golden!"
      ]
    },
    {
      "cell_type": "code",
      "metadata": {
        "colab": {
          "base_uri": "https://localhost:8080/"
        },
        "id": "wkWpHu-nmr0z",
        "outputId": "956859f4-67da-4c38-d21b-0b2dcab4ab2e"
      },
      "source": [
        "insurance_prepared = full_pipeline.fit_transform(insurance)\n",
        "insurance_prepared"
      ],
      "execution_count": null,
      "outputs": [
        {
          "output_type": "execute_result",
          "data": {
            "text/plain": [
              "array([[19.  , 27.9 ,  0.  , ...,  0.  ,  0.  ,  1.  ],\n",
              "       [18.  , 33.77,  1.  , ...,  0.  ,  1.  ,  0.  ],\n",
              "       [28.  , 33.  ,  3.  , ...,  0.  ,  1.  ,  0.  ],\n",
              "       ...,\n",
              "       [18.  , 36.85,  0.  , ...,  0.  ,  1.  ,  0.  ],\n",
              "       [21.  , 25.8 ,  0.  , ...,  0.  ,  0.  ,  1.  ],\n",
              "       [61.  , 29.07,  0.  , ...,  1.  ,  0.  ,  0.  ]])"
            ]
          },
          "metadata": {},
          "execution_count": 26
        }
      ]
    },
    {
      "cell_type": "markdown",
      "metadata": {
        "id": "siKSP0_4n2pR"
      },
      "source": [
        "# 4. Select, train, and evaluate a model\n",
        "\n",
        "Finally! The fun part. Now, we can use our data pipelinet to prepare any dataset, and feed the resulting dataset to any machine learning model.\n",
        "\n",
        "In this case, we will compare performance between three different machine learning algorithms:\n",
        "\n",
        "1. Linear Regression\n",
        "2. Decision Tree Regression\n",
        "3. Random Forest Regression.\n",
        "\n",
        "For all three models, we will eventually use 10-fold cross-validation to ensure the most accurate results. That said, we begin *without* Cross-Validation to make sure the models are working correctly.\n",
        "\n"
      ]
    },
    {
      "cell_type": "markdown",
      "metadata": {
        "id": "Bm3ORMlLWKZ6"
      },
      "source": [
        "# Prepare Data\n",
        "\n",
        "We start by using our pipeline to clean and process both our training and testing sets. We ammend \"ready\" to the end of the variable name to indicate the data's final status. We also re-label the variables caryrying our output labels so that they match the format of the data."
      ]
    },
    {
      "cell_type": "code",
      "metadata": {
        "colab": {
          "base_uri": "https://localhost:8080/"
        },
        "id": "wU6LBvwmWNXb",
        "outputId": "a8bd3ca6-bc81-4cdc-9787-b6aa4834fe65"
      },
      "source": [
        "# Run insurance dataset through full pipeline.\n",
        "# We note that we are using the stratified training/testing sets, \n",
        "# or stratified_training_set and stratified_testing_set\n",
        "train_insurance_data_ready = full_pipeline.fit_transform(stratified_training_set)\n",
        "test_insurance_data_ready = full_pipeline.fit_transform(stratified_testing_set)\n",
        "\n",
        "# Re-label variables carrying output labels (the charges category)\n",
        "train_insurance_labels = stratified_training_set_labels\n",
        "test_insurance_labels = stratified_testing_set_labels\n",
        "\n",
        "# Print information about our data\n",
        "# Note that data is (number_of_instances, number_of_labels)\n",
        "print(\"Training set: {}\".format(train_insurance_data_ready.shape))\n",
        "print(\"Test set: {}\".format(test_insurance_data_ready.shape))"
      ],
      "execution_count": null,
      "outputs": [
        {
          "output_type": "stream",
          "name": "stdout",
          "text": [
            "Training set: (1070, 11)\n",
            "Test set: (268, 11)\n"
          ]
        }
      ]
    },
    {
      "cell_type": "markdown",
      "metadata": {
        "id": "UVd4FSNGaYUi"
      },
      "source": [
        "# Train Basic Models\n",
        "\n",
        "We begin by training a linear regression model with our training data. We'll soon use 10-fold cross-validation with identical models as well, but for now we want to establish a baseline metric with a single version of the model."
      ]
    },
    {
      "cell_type": "code",
      "metadata": {
        "colab": {
          "base_uri": "https://localhost:8080/"
        },
        "id": "S6SqEUixae6D",
        "outputId": "be3fa546-05f0-4abf-bdf1-16c0865eeafa"
      },
      "source": [
        "# Import for Linear Regression model\n",
        "from sklearn.linear_model import LinearRegression\n",
        "\n",
        "# Create the model\n",
        "linear_regression_model = LinearRegression()\n",
        "\n",
        "# Train the model\n",
        "linear_regression_model.fit(train_insurance_data_ready, train_insurance_labels)\n"
      ],
      "execution_count": null,
      "outputs": [
        {
          "output_type": "execute_result",
          "data": {
            "text/plain": [
              "LinearRegression(copy_X=True, fit_intercept=True, n_jobs=None, normalize=False)"
            ]
          },
          "metadata": {},
          "execution_count": 28
        }
      ]
    },
    {
      "cell_type": "markdown",
      "metadata": {
        "id": "gkNDFr-nmu11"
      },
      "source": [
        "Of course, just training the model doesn't do much for us. We'd now like to use that model to make predictions about other data, here our test set. We will use Root Mean Squared error as our metric."
      ]
    },
    {
      "cell_type": "code",
      "metadata": {
        "colab": {
          "base_uri": "https://localhost:8080/"
        },
        "id": "BmLX7mcUmkwu",
        "outputId": "2b708d67-b308-4028-9198-badb5988dcdf"
      },
      "source": [
        "# Import mean_squared_error\n",
        "from sklearn.metrics import mean_squared_error\n",
        "\n",
        "# Using our model, predict values for each sample in the testing set\n",
        "insurance_cost_predictions = linear_regression_model.predict(train_insurance_data_ready)\n",
        "\n",
        "# Create RMSE of linear regression model on training data\n",
        "linear_regression_mse = mean_squared_error(train_insurance_labels, insurance_cost_predictions)\n",
        "linear_regression_rmse = np.sqrt(linear_regression_mse)\n",
        "\n",
        "# Print results\n",
        "print(\"RMSE of Linear Regression Model: {}\".format(linear_regression_rmse))"
      ],
      "execution_count": null,
      "outputs": [
        {
          "output_type": "stream",
          "name": "stdout",
          "text": [
            "RMSE of Linear Regression Model: 5880.664402701746\n"
          ]
        }
      ]
    },
    {
      "cell_type": "markdown",
      "metadata": {
        "id": "XLHwzhnHoxJ_"
      },
      "source": [
        "Now, we train a basic Decision Tree Regression model with the same data and calculate its RMSE."
      ]
    },
    {
      "cell_type": "code",
      "metadata": {
        "colab": {
          "base_uri": "https://localhost:8080/"
        },
        "id": "iTaxK29aowdw",
        "outputId": "bc2faed9-4054-497d-b4fe-48d64e1386b0"
      },
      "source": [
        "# Import DecisionTreeRegressor from scikitlearn\n",
        "from sklearn.tree import DecisionTreeRegressor\n",
        "\n",
        "# Create the model\n",
        "decision_tree_regression_model = DecisionTreeRegressor(random_state=21)\n",
        "\n",
        "# Train the model\n",
        "decision_tree_regression_model.fit(train_insurance_data_ready, train_insurance_labels)\n",
        "\n",
        "# Using our model, predict values for each sample in the testing set\n",
        "decision_tree_insurance_cost_predictions = decision_tree_regression_model.predict(train_insurance_data_ready)\n",
        "\n",
        "# Create RMSE of model on training data\n",
        "decision_tree_mse = mean_squared_error(train_insurance_labels, decision_tree_insurance_cost_predictions)\n",
        "decision_tree_rmse = np.sqrt(decision_tree_mse)\n",
        "\n",
        "# Print results\n",
        "print(\"RMSE of Decision Tree Regression Model: {}\".format(decision_tree_rmse))"
      ],
      "execution_count": null,
      "outputs": [
        {
          "output_type": "stream",
          "name": "stdout",
          "text": [
            "RMSE of Decision Tree Regression Model: 270.2373612509658\n"
          ]
        }
      ]
    },
    {
      "cell_type": "markdown",
      "metadata": {
        "id": "LKgWSEznqFvR"
      },
      "source": [
        "We see that the RMSE of decision Tree Regression is significantly lower. Decision trees are much better at memorizing the training set, however, so we won't really know just how good this specific model is until we ask it to predict our test set.\n",
        "\n",
        "That said, another way we can test it is to implement many decision trees with a Random Forest Regressor, which uses a number of slightly different trees to come up with the final result. So, we train a basic Random Forest Regressor model to do just that."
      ]
    },
    {
      "cell_type": "code",
      "metadata": {
        "id": "QGn_cah-qhMl",
        "colab": {
          "base_uri": "https://localhost:8080/"
        },
        "outputId": "882fa57e-1441-4508-9d69-210903cab7c0"
      },
      "source": [
        "# Import RandomForestRegressor model from scikitlearn\n",
        "from sklearn.ensemble import RandomForestRegressor\n",
        "\n",
        "# Create the model. Note that we are creating 10 separate decision trees.\n",
        "random_forest_regression_model = RandomForestRegressor(random_state=21, n_estimators=10)\n",
        "\n",
        "# Train the model\n",
        "random_forest_regression_model.fit(train_insurance_data_ready, train_insurance_labels)\n",
        "\n",
        "# Using our model, predict values for each sample in the testing set\n",
        "random_forest_insurance_cost_predictions = random_forest_regression_model.predict(train_insurance_data_ready)\n",
        "\n",
        "# Create RMSE of model on training data\n",
        "random_forest_regression_mse = mean_squared_error(train_insurance_labels, random_forest_insurance_cost_predictions)\n",
        "random_forest_regression_rmse = np.sqrt(random_forest_regression_mse)\n",
        "\n",
        "# Print results\n",
        "print(\"RMSE of Random Forst Regression Model: {}\".format(random_forest_regression_rmse))"
      ],
      "execution_count": null,
      "outputs": [
        {
          "output_type": "stream",
          "name": "stdout",
          "text": [
            "RMSE of Random Forst Regression Model: 2059.2719778674386\n"
          ]
        }
      ]
    },
    {
      "cell_type": "markdown",
      "metadata": {
        "id": "JqUm_jrrsfRI"
      },
      "source": [
        "Awesome! It looks like creating a 'committee' of trees causes our model to perform significantly less overfitting."
      ]
    },
    {
      "cell_type": "markdown",
      "metadata": {
        "id": "gtphq0dB_ood"
      },
      "source": [
        "# K-Fold Cross-Validation\n",
        "\n",
        "Finally, now that we've established each individual model, we run each with 10-fold cross-validation, just to see how well each model holds up when trained with slightly different data sets."
      ]
    },
    {
      "cell_type": "code",
      "metadata": {
        "colab": {
          "base_uri": "https://localhost:8080/"
        },
        "id": "LKJGp24u2G5j",
        "outputId": "f3fd01a2-c30b-49f5-ccbc-5530474b51ed"
      },
      "source": [
        "## Linear Regression ##\n",
        "\n",
        "# Import for cross-validation\n",
        "from sklearn.model_selection import cross_val_score\n",
        "\n",
        "# Run 10-fold cross-validation with linear regression model.\n",
        "linear_regression_10f_cv_scores = cross_val_score(\n",
        "    linear_regression_model, train_insurance_data_ready, \n",
        "    stratified_training_set_labels, scoring=\"neg_mean_squared_error\", \n",
        "    cv=10)\n",
        "\n",
        "# Calculate RMSE of scores\n",
        "linear_regression_rmse_scores = np.sqrt(-linear_regression_10f_cv_scores)\n",
        "\n",
        "# Print a list of RMSE values\n",
        "print(\"Results of 10-f c-v for Linear Regression:\")\n",
        "print(linear_regression_rmse_scores)\n",
        "\n",
        "# Load scores into panda DataFrame to quickly calculate stats\n",
        "print(\"Measurements on results:\")\n",
        "print(pd.Series(linear_regression_rmse_scores).describe())"
      ],
      "execution_count": null,
      "outputs": [
        {
          "output_type": "stream",
          "name": "stdout",
          "text": [
            "Results of 10-f c-v for Linear Regression:\n",
            "[5367.44838036 6624.94109849 6536.01561369 6134.72010058 5911.99635761\n",
            " 5546.25088899 5551.72707151 6711.70655398 5653.46146106 5170.37965706]\n",
            "Measurements on results:\n",
            "count      10.000000\n",
            "mean     5920.864718\n",
            "std       554.073586\n",
            "min      5170.379657\n",
            "25%      5547.619935\n",
            "50%      5782.728909\n",
            "75%      6435.691735\n",
            "max      6711.706554\n",
            "dtype: float64\n"
          ]
        }
      ]
    },
    {
      "cell_type": "markdown",
      "metadata": {
        "id": "d4uedD7XEnB3"
      },
      "source": [
        "Interestingly, we note that the average RMSE is actually less accurate than the basic linear regression model that did not have 10-fold cross-validation."
      ]
    },
    {
      "cell_type": "code",
      "metadata": {
        "colab": {
          "base_uri": "https://localhost:8080/"
        },
        "id": "382QxjCwsn6M",
        "outputId": "de671f9c-660f-456b-9819-670e062407d8"
      },
      "source": [
        "## Decision Tree Regression ##\n",
        "\n",
        "# Run 10-fold cross-validation with a decision tree regression model.\n",
        "decision_tree_regression_10f_cv_scores = cross_val_score(\n",
        "    decision_tree_regression_model, train_insurance_data_ready, \n",
        "    stratified_training_set_labels, scoring=\"neg_mean_squared_error\", \n",
        "    cv=10)\n",
        "\n",
        "# Calculate RMSE of scores\n",
        "decision_tree_regression_rmse_scores = np.sqrt(-decision_tree_regression_10f_cv_scores)\n",
        "\n",
        "# Print a list of RMSE values\n",
        "print(\"Results of 10-f c-v for Decision Tree Regression:\")\n",
        "print(decision_tree_regression_rmse_scores)\n",
        "\n",
        "# Load scores into panda DataFrame to quickly calculate stats\n",
        "print(\"Measurements on results:\")\n",
        "print(pd.Series(decision_tree_regression_rmse_scores).describe())"
      ],
      "execution_count": null,
      "outputs": [
        {
          "output_type": "stream",
          "name": "stdout",
          "text": [
            "Results of 10-f c-v for Decision Tree Regression:\n",
            "[5754.25205919 7401.14211875 6124.49508936 6461.32232339 5145.01809391\n",
            " 5255.91531961 5041.53994256 6907.686776   7239.23119248 5215.26701215]\n",
            "Measurements on results:\n",
            "count      10.000000\n",
            "mean     6054.586993\n",
            "std       906.814207\n",
            "min      5041.539943\n",
            "25%      5225.429089\n",
            "50%      5939.373574\n",
            "75%      6796.095663\n",
            "max      7401.142119\n",
            "dtype: float64\n"
          ]
        }
      ]
    },
    {
      "cell_type": "markdown",
      "metadata": {
        "id": "-VB4qbphFCo_"
      },
      "source": [
        "Again, we note the mean of the decion tree's 10-fold cross-validation. It's significantly higher than the basic decision tree (without 10-f c-v), but, since we suspected that the pinpoint accuracy was due to overfitting, it's good to see this back to roughly the same level as linear regression."
      ]
    },
    {
      "cell_type": "code",
      "metadata": {
        "colab": {
          "base_uri": "https://localhost:8080/"
        },
        "id": "eoukzA3K2LfH",
        "outputId": "a977b84d-2ad4-4f64-fd77-632666140551"
      },
      "source": [
        "## Random Forest Regression ##\n",
        "\n",
        "# Run 10-fold cross-validation with a random forst regression model.\n",
        "random_forest_regression_10f_cv_scores = cross_val_score(\n",
        "    random_forest_regression_model, train_insurance_data_ready, \n",
        "    stratified_training_set_labels, scoring=\"neg_mean_squared_error\", \n",
        "    cv=10)\n",
        "\n",
        "# Calculate RMSE of scores\n",
        "random_forest_regression_rmse_scores = np.sqrt(-random_forest_regression_10f_cv_scores)\n",
        "\n",
        "# Print a list of RMSE values\n",
        "print(\"Results of 10-f c-v for Random Forst Regression:\")\n",
        "print(random_forest_regression_rmse_scores)\n",
        "\n",
        "# Load scores into panda DataFrame to quickly calculate stats\n",
        "print(\"Measurements on results:\")\n",
        "print(pd.Series(random_forest_regression_rmse_scores).describe())\n",
        "print()"
      ],
      "execution_count": null,
      "outputs": [
        {
          "output_type": "stream",
          "name": "stdout",
          "text": [
            "Results of 10-f c-v for Random Forst Regression:\n",
            "[4887.78733286 5296.04570272 5826.67486433 4824.12073706 4597.84840622\n",
            " 3651.99530137 4110.32254631 5254.54703586 4438.08770874 4160.94194546]\n",
            "Measurements on results:\n",
            "count      10.000000\n",
            "mean     4704.837158\n",
            "std       649.638800\n",
            "min      3651.995301\n",
            "25%      4230.228386\n",
            "50%      4710.984572\n",
            "75%      5162.857110\n",
            "max      5826.674864\n",
            "dtype: float64\n",
            "\n"
          ]
        }
      ]
    },
    {
      "cell_type": "markdown",
      "metadata": {
        "id": "qvXnkCKaFzw5"
      },
      "source": [
        "Finally, we observe that the average RMSE of a Random Forest with 10-fold cross-validation is *significantly* more accurate than either of the other two algorithms. We've used all of the tools in our toolbox to get a more accurate result, and it has paid off! If we're bold, we might even make a prediction that when applied to our testing set, the Random Forest model may best predict the desired output labels. "
      ]
    },
    {
      "cell_type": "markdown",
      "metadata": {
        "id": "y22QaNVGxhOG"
      },
      "source": [
        " # Predict Tesing Set Labels & Evaluate RMSE of Each Model\n",
        " \n",
        "To check this prediction, we run our three models against our testing set."
      ]
    },
    {
      "cell_type": "code",
      "metadata": {
        "colab": {
          "base_uri": "https://localhost:8080/"
        },
        "id": "eVxKvOiJyZ5A",
        "outputId": "699b749b-5b89-4541-a6e1-82dbd7b3abc9"
      },
      "source": [
        "# Using our Linear Regression model, predict values for the test set\n",
        "insurance_cost_predictions_test = linear_regression_model.predict(test_insurance_data_ready)\n",
        "\n",
        "# Create RMSE of linear regression model on training data\n",
        "linear_regression_mse = mean_squared_error(test_insurance_labels, insurance_cost_predictions_test)\n",
        "linear_regression_rmse = np.sqrt(linear_regression_mse)\n",
        "\n",
        "# Print results\n",
        "print(\"RMSE of Linear Regression Model on Testing Set: {}\".format(linear_regression_rmse))"
      ],
      "execution_count": null,
      "outputs": [
        {
          "output_type": "stream",
          "name": "stdout",
          "text": [
            "RMSE of Linear Regression Model on Testing Set: 6688.995219851242\n"
          ]
        }
      ]
    },
    {
      "cell_type": "code",
      "metadata": {
        "colab": {
          "base_uri": "https://localhost:8080/"
        },
        "id": "UJ155MqczAM8",
        "outputId": "e7a0ae69-2031-421d-86ec-ca41bb538b70"
      },
      "source": [
        "# Using our Decision Tree model, predict values for the test set\n",
        "decision_tree_insurance_cost_predictions_test = decision_tree_regression_model.predict(test_insurance_data_ready)\n",
        "\n",
        "# Create RMSE of model on training data\n",
        "decision_tree_mse = mean_squared_error(test_insurance_labels, decision_tree_insurance_cost_predictions_test)\n",
        "decision_tree_rmse = np.sqrt(decision_tree_mse)\n",
        "\n",
        "# Print results\n",
        "print(\"RMSE of Decision Tree Regression Model on Testing Set: {}\".format(decision_tree_rmse))"
      ],
      "execution_count": null,
      "outputs": [
        {
          "output_type": "stream",
          "name": "stdout",
          "text": [
            "RMSE of Decision Tree Regression Model on Testing Set: 6918.7859652121715\n"
          ]
        }
      ]
    },
    {
      "cell_type": "code",
      "metadata": {
        "colab": {
          "base_uri": "https://localhost:8080/"
        },
        "id": "_GuJdE-Hzgoa",
        "outputId": "9486e7b8-d94f-4eb1-dded-d416edb57dec"
      },
      "source": [
        "# Using our Random Forest model, predict values for the test set\n",
        "random_forest_insurance_cost_predictions_test = random_forest_regression_model.predict(test_insurance_data_ready)\n",
        "\n",
        "# Create RMSE of model on training data\n",
        "random_forest_regression_mse = mean_squared_error(test_insurance_labels, \n",
        "                                                  random_forest_insurance_cost_predictions_test)\n",
        "random_forest_regression_rmse = np.sqrt(random_forest_regression_mse)\n",
        "\n",
        "# Print results\n",
        "print(\"RMSE of Random Forest Regression Model on Testing Set: {}\".format(random_forest_regression_rmse))"
      ],
      "execution_count": null,
      "outputs": [
        {
          "output_type": "stream",
          "name": "stdout",
          "text": [
            "RMSE of Random Forest Regression Model on Testing Set: 5554.899481383516\n"
          ]
        }
      ]
    },
    {
      "cell_type": "markdown",
      "metadata": {
        "id": "3MHBtwsq0SCx"
      },
      "source": [
        "# Final Remarks on the Results\n",
        "\n",
        "After predicting the results of our testing data with all of our trained models we see that while performance is similar to within roughly $1000 between all models, the Random Forest Regression model has a clear lead in accuracy when making predictions about our testing set.\n",
        "\n",
        "It is especially interesting to note that a single decision tree has a higher RMSE than a simpler linear regression model (by about \\$250). However, as soon as we combine multiple, slightly different decision trees into one model, that model beats out basic linear regression by a substantial amount (roughly \\$1000). Fantastically, we were able to predict this when comparing the RMSE of a single decision tree to the average of multiple decision trees (via 10-fold cross-validation).\n",
        "\n",
        "Moving forward, if we were to utilize one of these models in a production environment, we would a) want more data (and potentially labels) to do more training, thus producing better predictions and b) we would primarily use the random forest regression model as opposed to the other two models."
      ]
    }
  ]
}